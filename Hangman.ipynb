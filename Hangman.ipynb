{
  "nbformat": 4,
  "nbformat_minor": 0,
  "metadata": {
    "colab": {
      "provenance": []
    },
    "kernelspec": {
      "name": "python3",
      "display_name": "Python 3"
    },
    "language_info": {
      "name": "python"
    }
  },
  "cells": [
    {
      "cell_type": "markdown",
      "source": [
        "# **Projects to be submitted by Students**"
      ],
      "metadata": {
        "id": "Biy8SNqCREES"
      }
    },
    {
      "cell_type": "markdown",
      "source": [
        "**Project 5: Hangman**"
      ],
      "metadata": {
        "id": "6UQxeOsZRPpl"
      }
    },
    {
      "cell_type": "code",
      "execution_count": 1,
      "metadata": {
        "colab": {
          "base_uri": "https://localhost:8080/"
        },
        "id": "OInBLFcZRAZk",
        "outputId": "010fa850-9834-42b5-b0f2-9aa3f495f2e8"
      },
      "outputs": [
        {
          "output_type": "stream",
          "name": "stdout",
          "text": [
            "Welcome to Hangman!\n",
            "Guess the word:\n",
            "_ _ _ _ _ _\n",
            "Enter a letter: h\n",
            "Good job! h is in the word.\n",
            "_ _ _ h _ _\n",
            "Enter a letter: p\n",
            "Good job! p is in the word.\n",
            "p _ _ h _ _\n",
            "Enter a letter: y\n",
            "Good job! y is in the word.\n",
            "p y _ h _ _\n",
            "Enter a letter: t\n",
            "Good job! t is in the word.\n",
            "p y t h _ _\n",
            "Enter a letter: o\n",
            "Good job! o is in the word.\n",
            "p y t h o _\n",
            "Enter a letter: n\n",
            "Good job! n is in the word.\n",
            "Congratulations! You guessed the word: python\n"
          ]
        }
      ],
      "source": [
        "import random\n",
        "\n",
        "def choose_word():\n",
        "    words = [\"python\", \"programming\", \"hangman\", \"developer\", \"language\"]  # select random from the list\n",
        "    return random.choice(words)\n",
        "\n",
        "def display_word(word, guessed_letters):\n",
        "    return \" \".join([letter if letter in guessed_letters else \"_\" for letter in word])\n",
        "\n",
        "def hangman():\n",
        "    word_to_guess = choose_word()\n",
        "    guessed_letters = set()\n",
        "    attempts = 6\n",
        "\n",
        "    print(\"Welcome to Hangman!\")\n",
        "    print(\"Guess the word:\")\n",
        "\n",
        "    while attempts > 0:\n",
        "        print(display_word(word_to_guess, guessed_letters))\n",
        "        guess = input(\"Enter a letter: \").lower()\n",
        "\n",
        "        if len(guess) != 1 or not guess.isalpha():\n",
        "            print(\"Please enter a single letter.\")\n",
        "            continue\n",
        "\n",
        "        if guess in guessed_letters:\n",
        "            print(\"You already guessed that letter.\")\n",
        "            continue\n",
        "\n",
        "        guessed_letters.add(guess)\n",
        "\n",
        "        if guess in word_to_guess:\n",
        "            print(f\"Good job! {guess} is in the word.\")\n",
        "            if all(letter in guessed_letters for letter in word_to_guess):\n",
        "                print(f\"Congratulations! You guessed the word: {word_to_guess}\")\n",
        "                break\n",
        "        else:\n",
        "            attempts -= 1\n",
        "            print(f\"Wrong guess! You have {attempts} attempts left.\")\n",
        "\n",
        "    if attempts == 0:\n",
        "        print(f\"Game over! The word was: {word_to_guess}\")\n",
        "\n",
        "if __name__ == \"__main__\":\n",
        "    hangman()\n"
      ]
    }
  ]
}